{
 "cells": [
  {
   "cell_type": "markdown",
   "metadata": {},
   "source": [
    "# Introduccion\n",
    "\n",
    "## Carga del set de datos"
   ]
  },
  {
   "cell_type": "code",
   "execution_count": null,
   "metadata": {},
   "outputs": [
    {
     "name": "stderr",
     "output_type": "stream",
     "text": [
      "c:\\Users\\marce\\Practica_IA\\.venv\\Lib\\site-packages\\tqdm\\auto.py:21: TqdmWarning: IProgress not found. Please update jupyter and ipywidgets. See https://ipywidgets.readthedocs.io/en/stable/user_install.html\n",
      "  from .autonotebook import tqdm as notebook_tqdm\n"
     ]
    }
   ],
   "source": [
    "from datasets import load_dataset\n",
    "\n",
    "dataset = load_dataset(\"imdb\")\n"
   ]
  },
  {
   "cell_type": "markdown",
   "metadata": {},
   "source": [
    "## Tokenizacion del set de datos\n",
    "\n",
    "El siguiente paso realizara la tokenizacion necesaria para los algoritmos de procesamiento de lenguaje natural. Particularmente utiliza el algoritmode tokenizacion [BERT](https://es.wikipedia.org/wiki/BERT_(modelo_de_lenguaje))."
   ]
  },
  {
   "cell_type": "code",
   "execution_count": 2,
   "metadata": {},
   "outputs": [],
   "source": [
    "from transformers import BertTokenizer\n",
    "\n",
    "tokenizer = BertTokenizer.from_pretrained('bert-base-uncased')\n",
    "\n",
    "def tokenize_function(examples):\n",
    "    return tokenizer(examples['text'], padding=\"max_length\", truncation=True)\n",
    "\n",
    "tokenized_datasets = dataset.map(tokenize_function, batched=True)"
   ]
  },
  {
   "cell_type": "markdown",
   "metadata": {},
   "source": [
    "## Preparacion del set de datos\n",
    "\n",
    "Este paso lee el dataset ya tokenizado y reduce el tamano del mismo para poder entrenar el modelo en un tiempo adecuado."
   ]
  },
  {
   "cell_type": "code",
   "execution_count": 3,
   "metadata": {},
   "outputs": [],
   "source": [
    "train_testvalid = tokenized_datasets['train']\n",
    "train_testvalid = train_testvalid.select(range(1500))"
   ]
  },
  {
   "cell_type": "markdown",
   "metadata": {},
   "source": [
    "### Division del dataset \n",
    "\n",
    "Este paso dividira el conjunto de datos en un set de entrenamiento y otro de validacion."
   ]
  },
  {
   "cell_type": "code",
   "execution_count": null,
   "metadata": {},
   "outputs": [],
   "source": [
    "train_testvalid = train_testvalid.train_test_split(test_size=0.2)\n",
    "train_dataset = train_testvalid['train']\n",
    "valid_dataset = train_testvalid['test']"
   ]
  },
  {
   "cell_type": "markdown",
   "metadata": {},
   "source": [
    "A fin de manejar los batches de entrenamiento de manera eficiente utilizamos los _DataLoaders_:"
   ]
  },
  {
   "cell_type": "code",
   "execution_count": 6,
   "metadata": {},
   "outputs": [],
   "source": [
    "from torch.utils.data import DataLoader\n",
    "\n",
    "train_dataloader = DataLoader(train_dataset, shuffle=True, batch_size=8)\n",
    "valid_dataloader = DataLoader(valid_dataset, batch_size=8)"
   ]
  },
  {
   "cell_type": "markdown",
   "metadata": {},
   "source": [
    "# Fine tuning de modelo pre-entrenado\n",
    "\n",
    "Se comienza con un modelo de procesamiento de lenguaje natural pre-entrenado."
   ]
  },
  {
   "cell_type": "code",
   "execution_count": null,
   "metadata": {},
   "outputs": [
    {
     "name": "stderr",
     "output_type": "stream",
     "text": [
      "Some weights of BertForSequenceClassification were not initialized from the model checkpoint at bert-base-uncased and are newly initialized: ['classifier.bias', 'classifier.weight']\n",
      "You should probably TRAIN this model on a down-stream task to be able to use it for predictions and inference.\n"
     ]
    }
   ],
   "source": [
    "from transformers import BertForSequenceClassification, AdamW\n",
    "\n",
    "model = BertForSequenceClassification.from_pretrained('bert-base-uncased', num_labels=2)"
   ]
  },
  {
   "cell_type": "markdown",
   "metadata": {},
   "source": [
    "### Model training\n",
    "\n",
    "Ahora se refinan los parametros del modelo pre-entrenado con el data set de entrenamiento definido anteriormente:"
   ]
  },
  {
   "cell_type": "code",
   "execution_count": 9,
   "metadata": {},
   "outputs": [
    {
     "name": "stderr",
     "output_type": "stream",
     "text": [
      "c:\\Users\\marce\\Practica_IA\\.venv\\Lib\\site-packages\\transformers\\training_args.py:1594: FutureWarning: `evaluation_strategy` is deprecated and will be removed in version 4.46 of 🤗 Transformers. Use `eval_strategy` instead\n",
      "  warnings.warn(\n"
     ]
    },
    {
     "data": {
      "text/html": [
       "\n",
       "    <div>\n",
       "      \n",
       "      <progress value='450' max='450' style='width:300px; height:20px; vertical-align: middle;'></progress>\n",
       "      [450/450 3:09:42, Epoch 3/3]\n",
       "    </div>\n",
       "    <table border=\"1\" class=\"dataframe\">\n",
       "  <thead>\n",
       " <tr style=\"text-align: left;\">\n",
       "      <th>Epoch</th>\n",
       "      <th>Training Loss</th>\n",
       "      <th>Validation Loss</th>\n",
       "    </tr>\n",
       "  </thead>\n",
       "  <tbody>\n",
       "    <tr>\n",
       "      <td>1</td>\n",
       "      <td>No log</td>\n",
       "      <td>0.000490</td>\n",
       "    </tr>\n",
       "    <tr>\n",
       "      <td>2</td>\n",
       "      <td>No log</td>\n",
       "      <td>0.000233</td>\n",
       "    </tr>\n",
       "    <tr>\n",
       "      <td>3</td>\n",
       "      <td>No log</td>\n",
       "      <td>0.000185</td>\n",
       "    </tr>\n",
       "  </tbody>\n",
       "</table><p>"
      ],
      "text/plain": [
       "<IPython.core.display.HTML object>"
      ]
     },
     "metadata": {},
     "output_type": "display_data"
    },
    {
     "data": {
      "text/plain": [
       "TrainOutput(global_step=450, training_loss=0.008188242382473416, metrics={'train_runtime': 11400.4645, 'train_samples_per_second': 0.316, 'train_steps_per_second': 0.039, 'total_flos': 947199799296000.0, 'train_loss': 0.008188242382473416, 'epoch': 3.0})"
      ]
     },
     "execution_count": 9,
     "metadata": {},
     "output_type": "execute_result"
    }
   ],
   "source": [
    "from transformers import Trainer, TrainingArguments\n",
    "\n",
    "training_args = TrainingArguments(\n",
    "    output_dir='./results',\n",
    "    evaluation_strategy=\"epoch\",\n",
    "    learning_rate=2e-5,\n",
    "    per_device_train_batch_size=8,\n",
    "    per_device_eval_batch_size=8,\n",
    "    num_train_epochs=3,\n",
    "    weight_decay=0.01,\n",
    ")\n",
    "\n",
    "trainer = Trainer(\n",
    "    model=model,\n",
    "    args=training_args,\n",
    "    train_dataset=train_dataset,\n",
    "    eval_dataset=valid_dataset,\n",
    ")\n",
    "\n",
    "trainer.train()"
   ]
  },
  {
   "cell_type": "markdown",
   "metadata": {},
   "source": [
    "### Performance del modelo luego del fine-tuning"
   ]
  },
  {
   "cell_type": "code",
   "execution_count": 10,
   "metadata": {},
   "outputs": [
    {
     "data": {
      "text/html": [],
      "text/plain": [
       "<IPython.core.display.HTML object>"
      ]
     },
     "metadata": {},
     "output_type": "display_data"
    },
    {
     "name": "stdout",
     "output_type": "stream",
     "text": [
      "{'eval_loss': 0.0001852674613473937, 'eval_runtime': 110.5343, 'eval_samples_per_second': 2.714, 'eval_steps_per_second': 0.344, 'epoch': 3.0}\n"
     ]
    }
   ],
   "source": [
    "metrics = trainer.evaluate()\n",
    "print(metrics)"
   ]
  },
  {
   "cell_type": "markdown",
   "metadata": {},
   "source": [
    "### Predicciones"
   ]
  },
  {
   "cell_type": "code",
   "execution_count": 11,
   "metadata": {},
   "outputs": [
    {
     "name": "stdout",
     "output_type": "stream",
     "text": [
      "PredictionOutput(predictions=array([[ 4.475849 , -4.1330533],\n",
      "       [ 4.5065064, -4.0472875],\n",
      "       [ 4.570997 , -4.156846 ],\n",
      "       [ 4.408584 , -3.9318402],\n",
      "       [ 4.5121555, -4.178871 ],\n",
      "       [ 4.5459695, -4.066243 ],\n",
      "       [ 4.493396 , -4.138924 ],\n",
      "       [ 4.189075 , -3.9837306],\n",
      "       [ 4.5796676, -4.1405535],\n",
      "       [ 4.5119166, -4.0818467],\n",
      "       [ 4.464783 , -4.139474 ],\n",
      "       [ 4.5560746, -4.1292024],\n",
      "       [ 4.5673738, -4.166456 ],\n",
      "       [ 4.5162463, -4.098231 ],\n",
      "       [ 4.507188 , -4.1618137],\n",
      "       [ 4.471827 , -4.115313 ],\n",
      "       [ 4.5180154, -4.125523 ],\n",
      "       [ 4.549863 , -4.0967717],\n",
      "       [ 4.532546 , -4.113684 ],\n",
      "       [ 4.5362263, -4.091946 ],\n",
      "       [ 4.5093713, -4.0808544],\n",
      "       [ 4.403423 , -3.979005 ],\n",
      "       [ 4.549311 , -4.101613 ],\n",
      "       [ 4.598023 , -4.1724677],\n",
      "       [ 4.508365 , -4.1544814],\n",
      "       [ 4.537312 , -4.1463666],\n",
      "       [ 4.4584045, -4.1042724],\n",
      "       [ 4.5637546, -4.1599307],\n",
      "       [ 4.5086246, -4.1741595],\n",
      "       [ 4.5730915, -4.152608 ],\n",
      "       [ 4.4740443, -4.0406013],\n",
      "       [ 4.502091 , -4.0174136],\n",
      "       [ 4.551886 , -4.122631 ],\n",
      "       [ 4.5929585, -4.158032 ],\n",
      "       [ 4.214041 , -4.046446 ],\n",
      "       [ 4.3784747, -3.9358015],\n",
      "       [ 4.4590287, -4.1641173],\n",
      "       [ 4.455507 , -4.144066 ],\n",
      "       [ 4.5532246, -4.09114  ],\n",
      "       [ 4.512158 , -4.1135554],\n",
      "       [ 4.5041766, -4.1207623],\n",
      "       [ 4.5282807, -4.149688 ],\n",
      "       [ 4.4405813, -4.121984 ],\n",
      "       [ 4.496356 , -4.1441216],\n",
      "       [ 4.53304  , -4.0756564],\n",
      "       [ 4.4423394, -4.011684 ],\n",
      "       [ 4.529403 , -4.122481 ],\n",
      "       [ 4.4867873, -4.163914 ],\n",
      "       [ 4.4842744, -4.0578103],\n",
      "       [ 4.55228  , -4.0937667],\n",
      "       [ 4.5363317, -4.123299 ],\n",
      "       [ 4.521701 , -4.1228433],\n",
      "       [ 4.549475 , -4.177484 ],\n",
      "       [ 4.3903193, -4.104023 ],\n",
      "       [ 4.516278 , -4.1552205],\n",
      "       [ 4.46866  , -4.1573844],\n",
      "       [ 4.3111873, -3.8691518],\n",
      "       [ 4.577843 , -4.1575923],\n",
      "       [ 4.5782566, -4.1560516],\n",
      "       [ 4.347616 , -4.0962663],\n",
      "       [ 4.542089 , -4.097573 ],\n",
      "       [ 4.569481 , -4.152853 ],\n",
      "       [ 4.4061093, -4.0554614],\n",
      "       [ 4.3866324, -4.104916 ],\n",
      "       [ 4.526205 , -4.1079454],\n",
      "       [ 4.533521 , -4.1040654],\n",
      "       [ 4.5390143, -4.0853643],\n",
      "       [ 4.4790397, -4.1302624],\n",
      "       [ 4.53565  , -4.099043 ],\n",
      "       [ 4.433741 , -3.9741104],\n",
      "       [ 4.4549313, -4.1525316],\n",
      "       [ 4.397228 , -3.948796 ],\n",
      "       [ 4.4533873, -3.9849656],\n",
      "       [ 4.4525495, -4.149247 ],\n",
      "       [ 4.496741 , -4.098788 ],\n",
      "       [ 4.5264482, -4.1680665],\n",
      "       [ 4.5555224, -4.1460547],\n",
      "       [ 4.3774877, -4.0956216],\n",
      "       [ 4.5337057, -4.1663766],\n",
      "       [ 4.5245786, -4.0684476],\n",
      "       [ 4.34775  , -4.0164638],\n",
      "       [ 4.4791665, -4.104644 ],\n",
      "       [ 4.457648 , -4.126458 ],\n",
      "       [ 4.5162134, -4.1743617],\n",
      "       [ 4.531254 , -4.145556 ],\n",
      "       [ 4.465668 , -4.1391854],\n",
      "       [ 4.5395846, -4.12437  ],\n",
      "       [ 4.4816813, -4.127935 ],\n",
      "       [ 4.5006986, -4.0873394],\n",
      "       [ 4.5361786, -4.159157 ],\n",
      "       [ 4.605017 , -4.140475 ],\n",
      "       [ 4.555083 , -4.174198 ],\n",
      "       [ 4.542178 , -4.1540856],\n",
      "       [ 4.5097866, -3.996441 ],\n",
      "       [ 4.579559 , -4.1405196],\n",
      "       [ 4.5186653, -4.1472163],\n",
      "       [ 4.4579997, -4.1273437],\n",
      "       [ 4.405148 , -4.0879593],\n",
      "       [ 4.4849415, -3.9915636],\n",
      "       [ 4.4385815, -4.0830126],\n",
      "       [ 4.5710483, -4.109574 ],\n",
      "       [ 4.4902973, -4.0435195],\n",
      "       [ 4.502702 , -4.129147 ],\n",
      "       [ 4.3942084, -4.0915895],\n",
      "       [ 4.4270167, -4.0934253],\n",
      "       [ 4.59823  , -4.157271 ],\n",
      "       [ 4.5353217, -4.1506286],\n",
      "       [ 4.432021 , -4.0276647],\n",
      "       [ 4.5427074, -4.098391 ],\n",
      "       [ 4.44386  , -4.1556296],\n",
      "       [ 4.525182 , -4.160491 ],\n",
      "       [ 4.5097265, -4.122939 ],\n",
      "       [ 4.460876 , -4.1500955],\n",
      "       [ 4.541234 , -4.155313 ],\n",
      "       [ 4.578998 , -4.143827 ],\n",
      "       [ 4.4963408, -3.9871867],\n",
      "       [ 4.592478 , -4.1478963],\n",
      "       [ 4.4953876, -4.1528916],\n",
      "       [ 4.5450053, -4.1271977],\n",
      "       [ 4.40702  , -4.017837 ],\n",
      "       [ 4.5204234, -4.0751176],\n",
      "       [ 4.3359456, -4.1008997],\n",
      "       [ 4.5122514, -4.120821 ],\n",
      "       [ 4.3615565, -4.1101975],\n",
      "       [ 4.566149 , -4.172663 ],\n",
      "       [ 4.517017 , -4.162027 ],\n",
      "       [ 4.4027715, -4.107592 ],\n",
      "       [ 4.4486265, -4.028643 ],\n",
      "       [ 4.4795084, -4.0117216],\n",
      "       [ 4.525385 , -4.1552334],\n",
      "       [ 4.318417 , -4.1018553],\n",
      "       [ 4.4696035, -4.123434 ],\n",
      "       [ 4.5297875, -4.133531 ],\n",
      "       [ 4.533421 , -4.134334 ],\n",
      "       [ 4.540194 , -4.115379 ],\n",
      "       [ 4.594382 , -4.1481876],\n",
      "       [ 4.5102224, -4.1465306],\n",
      "       [ 4.4872317, -4.1078696],\n",
      "       [ 4.552464 , -4.1522555],\n",
      "       [ 4.479978 , -4.171272 ],\n",
      "       [ 4.408691 , -4.0501056],\n",
      "       [ 4.18626  , -3.7242053],\n",
      "       [ 4.552668 , -4.1729207],\n",
      "       [ 4.4960766, -4.131208 ],\n",
      "       [ 4.546446 , -4.073261 ],\n",
      "       [ 4.5605016, -4.1449494],\n",
      "       [ 4.465305 , -3.9439304],\n",
      "       [ 4.602748 , -4.1600885],\n",
      "       [ 4.5659575, -4.15153  ],\n",
      "       [ 4.542478 , -4.188127 ],\n",
      "       [ 4.592604 , -4.13676  ],\n",
      "       [ 4.4912286, -4.16637  ],\n",
      "       [ 4.4747834, -4.15318  ],\n",
      "       [ 4.5252886, -4.1547503],\n",
      "       [ 4.56607  , -4.1399984],\n",
      "       [ 4.561642 , -4.1773934],\n",
      "       [ 4.469042 , -4.026996 ],\n",
      "       [ 4.5083733, -4.1208477],\n",
      "       [ 4.5636234, -4.161053 ],\n",
      "       [ 4.267435 , -4.031624 ],\n",
      "       [ 4.4916005, -4.135061 ],\n",
      "       [ 4.5030065, -4.0932274],\n",
      "       [ 4.45727  , -4.1393533],\n",
      "       [ 4.546806 , -4.152327 ],\n",
      "       [ 4.3955097, -4.0657525],\n",
      "       [ 4.487263 , -4.127998 ],\n",
      "       [ 4.5506744, -4.121494 ],\n",
      "       [ 4.5732813, -4.169293 ],\n",
      "       [ 4.520554 , -4.1535177],\n",
      "       [ 4.50707  , -4.095815 ],\n",
      "       [ 4.510645 , -4.105595 ],\n",
      "       [ 4.56368  , -4.1358476],\n",
      "       [ 4.526473 , -4.1549444],\n",
      "       [ 4.56223  , -4.1076684],\n",
      "       [ 4.553454 , -4.149896 ],\n",
      "       [ 4.4960012, -4.0788865],\n",
      "       [ 4.2967315, -4.0316396],\n",
      "       [ 4.4681315, -4.1301494],\n",
      "       [ 4.568249 , -4.185489 ],\n",
      "       [ 4.5355544, -4.1660323],\n",
      "       [ 4.53223  , -4.1236377],\n",
      "       [ 4.468228 , -4.1000867],\n",
      "       [ 4.573486 , -4.1656804],\n",
      "       [ 4.521868 , -4.1289244],\n",
      "       [ 4.4514813, -4.0796185],\n",
      "       [ 4.531016 , -4.1533093],\n",
      "       [ 4.5441737, -4.0913014],\n",
      "       [ 4.569849 , -4.1299014],\n",
      "       [ 4.566318 , -4.144085 ],\n",
      "       [ 4.4394116, -3.985412 ],\n",
      "       [ 4.5509877, -4.169211 ],\n",
      "       [ 4.5725293, -4.1328745],\n",
      "       [ 4.539275 , -4.1281495],\n",
      "       [ 4.472367 , -4.100416 ],\n",
      "       [ 4.456689 , -4.138189 ],\n",
      "       [ 4.5149465, -4.0979896],\n",
      "       [ 4.562879 , -4.116565 ],\n",
      "       [ 4.460398 , -4.093035 ],\n",
      "       [ 4.521484 , -4.0838904],\n",
      "       [ 4.4894185, -4.162144 ],\n",
      "       [ 4.3801246, -3.921667 ],\n",
      "       [ 4.466066 , -4.090142 ],\n",
      "       [ 4.4406395, -4.121467 ],\n",
      "       [ 4.554073 , -4.044827 ],\n",
      "       [ 4.36144  , -4.138619 ],\n",
      "       [ 4.5908093, -4.149918 ],\n",
      "       [ 4.46236  , -4.1493964],\n",
      "       [ 4.5826054, -4.154937 ],\n",
      "       [ 4.45523  , -4.083613 ],\n",
      "       [ 4.477008 , -4.160575 ],\n",
      "       [ 4.500662 , -4.0281906],\n",
      "       [ 4.5758033, -4.142625 ],\n",
      "       [ 4.5271773, -4.1307826],\n",
      "       [ 4.5193353, -4.1360526],\n",
      "       [ 4.495655 , -4.1321406],\n",
      "       [ 4.551329 , -4.12292  ],\n",
      "       [ 4.482511 , -4.106253 ],\n",
      "       [ 4.3783116, -4.093437 ],\n",
      "       [ 4.370455 , -4.118903 ],\n",
      "       [ 4.547892 , -4.1403184],\n",
      "       [ 4.2023287, -3.7306318],\n",
      "       [ 4.184445 , -4.0024166],\n",
      "       [ 4.415339 , -4.002182 ],\n",
      "       [ 4.5652328, -4.153074 ],\n",
      "       [ 4.5270014, -4.10884  ],\n",
      "       [ 4.5284305, -4.15236  ],\n",
      "       [ 4.52333  , -4.168287 ],\n",
      "       [ 4.33476  , -4.099709 ],\n",
      "       [ 4.4911513, -4.052256 ],\n",
      "       [ 4.515661 , -4.120621 ],\n",
      "       [ 4.5580096, -4.166037 ],\n",
      "       [ 4.493426 , -4.0886526],\n",
      "       [ 4.5640106, -4.08553  ],\n",
      "       [ 4.577967 , -4.173383 ],\n",
      "       [ 4.573107 , -4.1604843],\n",
      "       [ 4.516029 , -4.1797767],\n",
      "       [ 4.552293 , -4.0977626],\n",
      "       [ 4.565045 , -4.0967765],\n",
      "       [ 4.5552783, -4.0925183],\n",
      "       [ 4.4949493, -4.105914 ],\n",
      "       [ 4.530632 , -4.137672 ],\n",
      "       [ 4.481154 , -4.1175537],\n",
      "       [ 4.4750514, -4.11155  ],\n",
      "       [ 4.34283  , -3.8380952],\n",
      "       [ 4.4661016, -3.984219 ],\n",
      "       [ 4.4777713, -4.1363072],\n",
      "       [ 4.4448123, -4.082923 ],\n",
      "       [ 4.5413423, -4.106815 ],\n",
      "       [ 4.4972725, -4.0533614],\n",
      "       [ 4.4504495, -4.1594896],\n",
      "       [ 4.432415 , -4.1618257],\n",
      "       [ 4.576163 , -4.174022 ],\n",
      "       [ 4.5059566, -4.1031556],\n",
      "       [ 4.451651 , -3.9352663],\n",
      "       [ 4.4931636, -4.1400847],\n",
      "       [ 4.491696 , -4.150411 ],\n",
      "       [ 4.524397 , -4.057861 ],\n",
      "       [ 4.543282 , -4.1001444],\n",
      "       [ 4.5291214, -4.029632 ],\n",
      "       [ 4.5135093, -4.10414  ],\n",
      "       [ 4.2466626, -4.027102 ],\n",
      "       [ 4.3919024, -3.9662783],\n",
      "       [ 4.5477147, -4.1095147],\n",
      "       [ 4.470113 , -4.129296 ],\n",
      "       [ 4.5427184, -4.159711 ],\n",
      "       [ 4.5333667, -4.151338 ],\n",
      "       [ 4.414159 , -3.970321 ],\n",
      "       [ 4.553599 , -4.1823735],\n",
      "       [ 4.5456696, -4.1154017],\n",
      "       [ 4.5928965, -4.1594515],\n",
      "       [ 4.567097 , -4.1668386],\n",
      "       [ 4.5142045, -4.154921 ],\n",
      "       [ 4.459765 , -4.0958147],\n",
      "       [ 4.553056 , -4.1196847],\n",
      "       [ 4.5125937, -4.1814218],\n",
      "       [ 4.5043206, -4.044081 ],\n",
      "       [ 4.5188613, -4.0845385],\n",
      "       [ 4.5257115, -4.1096516],\n",
      "       [ 4.558477 , -4.1869125],\n",
      "       [ 4.5137825, -4.1751943],\n",
      "       [ 4.587694 , -4.1418076],\n",
      "       [ 4.3173637, -3.821413 ],\n",
      "       [ 4.5343914, -4.057958 ],\n",
      "       [ 4.5571017, -4.0950427],\n",
      "       [ 4.553879 , -4.141534 ],\n",
      "       [ 4.577114 , -4.1673636],\n",
      "       [ 4.475089 , -4.14292  ],\n",
      "       [ 4.5517716, -4.1577926],\n",
      "       [ 4.556185 , -4.0911603],\n",
      "       [ 4.4778347, -4.06062  ],\n",
      "       [ 4.531497 , -4.1083765],\n",
      "       [ 4.607428 , -4.128364 ],\n",
      "       [ 4.4588046, -4.026103 ],\n",
      "       [ 4.554365 , -4.0697646],\n",
      "       [ 4.504177 , -4.062613 ],\n",
      "       [ 4.3433156, -3.915573 ],\n",
      "       [ 4.4865193, -4.1582503],\n",
      "       [ 4.528287 , -4.081329 ],\n",
      "       [ 4.5956683, -4.134912 ],\n",
      "       [ 4.553784 , -4.1808524]], dtype=float32), label_ids=array([0, 0, 0, 0, 0, 0, 0, 0, 0, 0, 0, 0, 0, 0, 0, 0, 0, 0, 0, 0, 0, 0,\n",
      "       0, 0, 0, 0, 0, 0, 0, 0, 0, 0, 0, 0, 0, 0, 0, 0, 0, 0, 0, 0, 0, 0,\n",
      "       0, 0, 0, 0, 0, 0, 0, 0, 0, 0, 0, 0, 0, 0, 0, 0, 0, 0, 0, 0, 0, 0,\n",
      "       0, 0, 0, 0, 0, 0, 0, 0, 0, 0, 0, 0, 0, 0, 0, 0, 0, 0, 0, 0, 0, 0,\n",
      "       0, 0, 0, 0, 0, 0, 0, 0, 0, 0, 0, 0, 0, 0, 0, 0, 0, 0, 0, 0, 0, 0,\n",
      "       0, 0, 0, 0, 0, 0, 0, 0, 0, 0, 0, 0, 0, 0, 0, 0, 0, 0, 0, 0, 0, 0,\n",
      "       0, 0, 0, 0, 0, 0, 0, 0, 0, 0, 0, 0, 0, 0, 0, 0, 0, 0, 0, 0, 0, 0,\n",
      "       0, 0, 0, 0, 0, 0, 0, 0, 0, 0, 0, 0, 0, 0, 0, 0, 0, 0, 0, 0, 0, 0,\n",
      "       0, 0, 0, 0, 0, 0, 0, 0, 0, 0, 0, 0, 0, 0, 0, 0, 0, 0, 0, 0, 0, 0,\n",
      "       0, 0, 0, 0, 0, 0, 0, 0, 0, 0, 0, 0, 0, 0, 0, 0, 0, 0, 0, 0, 0, 0,\n",
      "       0, 0, 0, 0, 0, 0, 0, 0, 0, 0, 0, 0, 0, 0, 0, 0, 0, 0, 0, 0, 0, 0,\n",
      "       0, 0, 0, 0, 0, 0, 0, 0, 0, 0, 0, 0, 0, 0, 0, 0, 0, 0, 0, 0, 0, 0,\n",
      "       0, 0, 0, 0, 0, 0, 0, 0, 0, 0, 0, 0, 0, 0, 0, 0, 0, 0, 0, 0, 0, 0,\n",
      "       0, 0, 0, 0, 0, 0, 0, 0, 0, 0, 0, 0, 0, 0]), metrics={'test_loss': 0.0001852674613473937, 'test_runtime': 112.2932, 'test_samples_per_second': 2.672, 'test_steps_per_second': 0.338})\n"
     ]
    }
   ],
   "source": [
    "predictions = trainer.predict(valid_dataset)\n",
    "print(predictions)"
   ]
  },
  {
   "cell_type": "markdown",
   "metadata": {},
   "source": [
    "# Results\n",
    " A continuacion vemos las metricas de las etapas de entrenamiento y test.\n",
    "\n",
    "\n",
    "| metric | train | test |\n",
    "| --- | --- | --- | \n",
    "| loss | 0.0001852674613473937  | 0.0001852674613473937 |\n",
    "| runtime | 110.5343 | 112.2932 |\n",
    "| samples_per_second | 2.714 | 2.672 |\n",
    "| steps_per_second | 0.344 | 0.338 |\n",
    "\n"
   ]
  }
 ],
 "metadata": {
  "kernelspec": {
   "display_name": ".venv",
   "language": "python",
   "name": "python3"
  },
  "language_info": {
   "codemirror_mode": {
    "name": "ipython",
    "version": 3
   },
   "file_extension": ".py",
   "mimetype": "text/x-python",
   "name": "python",
   "nbconvert_exporter": "python",
   "pygments_lexer": "ipython3",
   "version": "3.12.4"
  }
 },
 "nbformat": 4,
 "nbformat_minor": 2
}
